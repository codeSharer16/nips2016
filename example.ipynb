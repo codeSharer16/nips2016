{
 "cells": [
  {
   "cell_type": "markdown",
   "metadata": {},
   "source": [
    "# Walkthrough"
   ]
  },
  {
   "cell_type": "markdown",
   "metadata": {},
   "source": [
    "This notebook will walk you through an example run of a simulation of a PYMK universe and how to compare the naive estimator to the MDI estimator for different parameter values and algorithms."
   ]
  },
  {
   "cell_type": "code",
   "execution_count": 1,
   "metadata": {
    "collapsed": false
   },
   "outputs": [],
   "source": [
    "%matplotlib inline\n",
    "import numpy as np\n",
    "import networkx as nx\n",
    "import itertools as it\n",
    "import pyximport\n",
    "pyximport.install(setup_args={\"include_dirs\":np.get_include()}, reload_support=True)\n",
    "import sys\n",
    "sys.path.append('./')\n",
    "import main\n",
    "import utils\n",
    "import cfns\n",
    "import matplotlib.pyplot as plt\n",
    "import seaborn\n",
    "seaborn.set_style('whitegrid')"
   ]
  },
  {
   "cell_type": "markdown",
   "metadata": {},
   "source": [
    "We choose a random seed:"
   ]
  },
  {
   "cell_type": "code",
   "execution_count": 2,
   "metadata": {
    "collapsed": true
   },
   "outputs": [],
   "source": [
    "seed = 100"
   ]
  },
  {
   "cell_type": "markdown",
   "metadata": {},
   "source": [
    "We create the undirected latent graph here in edge list (set) form:"
   ]
  },
  {
   "cell_type": "code",
   "execution_count": 21,
   "metadata": {
    "collapsed": true
   },
   "outputs": [],
   "source": [
    "nbr_of_nodes = 400"
   ]
  },
  {
   "cell_type": "code",
   "execution_count": 22,
   "metadata": {
    "collapsed": false
   },
   "outputs": [],
   "source": [
    "H = nx.barabasi_albert_graph(n=nbr_of_nodes, m=50)\n",
    "true_edges = set(H.edges())\n",
    "true_edges.update([(j, i) for i, j in true_edges])"
   ]
  },
  {
   "cell_type": "markdown",
   "metadata": {},
   "source": [
    "We settle on a horizon time (should be << nbr_of_nodes):"
   ]
  },
  {
   "cell_type": "code",
   "execution_count": 23,
   "metadata": {
    "collapsed": true
   },
   "outputs": [],
   "source": [
    "T = 50"
   ]
  },
  {
   "cell_type": "markdown",
   "metadata": {},
   "source": [
    "We create the fixed algorithms here:"
   ]
  },
  {
   "cell_type": "code",
   "execution_count": 24,
   "metadata": {
    "collapsed": false,
    "scrolled": true
   },
   "outputs": [],
   "source": [
    "sigma_B = utils.random_ranking(nbr_of_nodes)\n",
    "simil = 250000  # A parameter controlling the similarity between algos\n",
    "sigma_A = cfns.make_stronger_algo(sigma_B, simil, T, true_edges)"
   ]
  },
  {
   "cell_type": "markdown",
   "metadata": {},
   "source": [
    "We run the ground truth (where everyone is treated):"
   ]
  },
  {
   "cell_type": "code",
   "execution_count": 25,
   "metadata": {
    "collapsed": false
   },
   "outputs": [],
   "source": [
    "bucket_assignment = np.ones(nbr_of_nodes, dtype=int)"
   ]
  },
  {
   "cell_type": "code",
   "execution_count": 26,
   "metadata": {
    "collapsed": false
   },
   "outputs": [],
   "source": [
    "ground_truth = len(cfns.process_strongly_fixed(sigma = sigma_A, T=T,\n",
    "                                               true_edges=true_edges,\n",
    "                                               seed=seed)[0])"
   ]
  },
  {
   "cell_type": "markdown",
   "metadata": {},
   "source": [
    "We now run 200 completely randomized A/B tests where we select first the proportion of treated units: \n",
    "(Note this sampling is independent from the random seed chosen above)"
   ]
  },
  {
   "cell_type": "code",
   "execution_count": 27,
   "metadata": {
    "collapsed": true
   },
   "outputs": [],
   "source": [
    "proportion_treated = .5"
   ]
  },
  {
   "cell_type": "code",
   "execution_count": 28,
   "metadata": {
    "collapsed": false
   },
   "outputs": [],
   "source": [
    "naive, mdi = cfns.run_strongly_fixed(T=T, \n",
    "                                     true_edges=true_edges,\n",
    "                                     treatment=sigma_A,\n",
    "                                     control=sigma_B,\n",
    "                                     proportion=proportion_treated,\n",
    "                                     n_iter=200,\n",
    "                                     seed=seed)"
   ]
  },
  {
   "cell_type": "markdown",
   "metadata": {},
   "source": [
    "Note that the same workflow is possible for weakly fixed algorithms:"
   ]
  },
  {
   "cell_type": "code",
   "execution_count": 29,
   "metadata": {
    "collapsed": true
   },
   "outputs": [],
   "source": [
    "ground_truth = len(cfns.process_weakly_fixed(sigma = sigma_A, T=T,\n",
    "                                               true_edges=true_edges,\n",
    "                                               seed=seed)[0])"
   ]
  },
  {
   "cell_type": "code",
   "execution_count": 30,
   "metadata": {
    "collapsed": false
   },
   "outputs": [],
   "source": [
    "naive, mdi = cfns.run_weakly_fixed(T=T, \n",
    "                                   true_edges=true_edges,\n",
    "                                   treatment=sigma_A,\n",
    "                                   control=sigma_B,\n",
    "                                   proportion=proportion_treated,\n",
    "                                   n_iter=200,\n",
    "                                   seed=seed)"
   ]
  },
  {
   "cell_type": "code",
   "execution_count": 31,
   "metadata": {
    "collapsed": false
   },
   "outputs": [
    {
     "data": {
      "image/png": "[encoded data removed]",
      "text/plain": [
       "<matplotlib.figure.Figure at 0x1181adeb8>"
      ]
     },
     "metadata": {},
     "output_type": "display_data"
    }
   ],
   "source": [
    "f, axarr = plt.subplots(1, 2, figsize=(15, 5))\n",
    "axarr[0].hist(naive)\n",
    "axarr[0].set_title('Naive estimator')\n",
    "axarr[1].hist(mdi)\n",
    "axarr[1].set_title('MDI estimator')\n",
    "for ax in axarr:\n",
    "    ax.plot([ground_truth] * 50, range(50))"
   ]
  },
  {
   "cell_type": "markdown",
   "metadata": {},
   "source": [
    "For non-fixed algorithms, the workflow is slightly different. It requires setting a buffer variable such that T + buffer << N but buffer ~ T. This is for optimization purposes: the output of the program is independent from the value of the buffer. "
   ]
  },
  {
   "cell_type": "code",
   "execution_count": 32,
   "metadata": {
    "collapsed": true
   },
   "outputs": [],
   "source": [
    "buffer = 50"
   ]
  },
  {
   "cell_type": "markdown",
   "metadata": {},
   "source": [
    "We can cast the fixed algorithms as non-fixed algorithms for compatibilty:"
   ]
  },
  {
   "cell_type": "code",
   "execution_count": 33,
   "metadata": {
    "collapsed": false
   },
   "outputs": [],
   "source": [
    "control = cfns.PermutationAlgorithm(sigma_B)"
   ]
  },
  {
   "cell_type": "markdown",
   "metadata": {},
   "source": [
    "We can also create mixture algorithms between fixed algorithms and FoF algorithm by specifying a mixture parameter:"
   ]
  },
  {
   "cell_type": "code",
   "execution_count": 34,
   "metadata": {
    "collapsed": true
   },
   "outputs": [],
   "source": [
    "mixture_parameter = .01"
   ]
  },
  {
   "cell_type": "code",
   "execution_count": 35,
   "metadata": {
    "collapsed": true
   },
   "outputs": [],
   "source": [
    "treatment = cfns.FoFandPermutationAlgorithm(sigma_A, epsilon=mixture_parameter)"
   ]
  },
  {
   "cell_type": "markdown",
   "metadata": {},
   "source": [
    "Running the ground truth is slightly different now:"
   ]
  },
  {
   "cell_type": "code",
   "execution_count": 36,
   "metadata": {
    "collapsed": false
   },
   "outputs": [],
   "source": [
    "bucket_assignment = np.ones(nbr_of_nodes, dtype=int)"
   ]
  },
  {
   "cell_type": "code",
   "execution_count": 37,
   "metadata": {
    "collapsed": false
   },
   "outputs": [],
   "source": [
    "ground_truth = len(cfns.process_nonfixed(true_edges=true_edges,\n",
    "                                         treatment=treatment,\n",
    "                                         control=control,\n",
    "                                         buckets=bucket_assignment,\n",
    "                                         N=nbr_of_nodes,\n",
    "                                         T=T, seed=seed,\n",
    "                                         buff=buffer)[0])"
   ]
  },
  {
   "cell_type": "markdown",
   "metadata": {},
   "source": [
    "Note that running the 200 A/B tests will return 3 estimators: the naive estimator, the standard MDI estimator, and the partial MDI estimator discussed at the end of Section~3. "
   ]
  },
  {
   "cell_type": "code",
   "execution_count": 38,
   "metadata": {
    "collapsed": false
   },
   "outputs": [
    {
     "name": "stderr",
     "output_type": "stream",
     "text": [
      "/Users/jpa/miniconda3/lib/python3.4/site-packages/ipykernel/__main__.py:9: VisibleDeprecationWarning: using a non-integer number instead of an integer will result in an error in the future\n"
     ]
    }
   ],
   "source": [
    "naive, partial_mdi, full_mdi = cfns.run_nonfixed(T=T,\n",
    "                                                 true_edges=true_edges,\n",
    "                                                 treatment=treatment,\n",
    "                                                 control=control,\n",
    "                                                 proportion=proportion_treated,\n",
    "                                                 N=nbr_of_nodes,\n",
    "                                                 buff=buffer,\n",
    "                                                 n_iter=200,\n",
    "                                                 seed=seed)"
   ]
  },
  {
   "cell_type": "code",
   "execution_count": 44,
   "metadata": {
    "collapsed": false
   },
   "outputs": [
    {
     "data": {
      "image/png": "[encoded data removed]",
      "text/plain": [
       "<matplotlib.figure.Figure at 0x11ba961d0>"
      ]
     },
     "metadata": {},
     "output_type": "display_data"
    }
   ],
   "source": [
    "f, axarr = plt.subplots(1, 3, figsize=(15, 5))\n",
    "axarr[0].hist(naive[1:])\n",
    "axarr[0].set_title('Naive estimator')\n",
    "axarr[1].hist(partial_mdi[1:])\n",
    "axarr[1].set_title('Partial MDI estimator')\n",
    "axarr[2].hist(full_mdi[1:])\n",
    "axarr[2].set_title('Full MDI estimator')\n",
    "for ax in axarr:\n",
    "    ax.plot([ground_truth] * 50, range(50))"
   ]
  },
  {
   "cell_type": "code",
   "execution_count": null,
   "metadata": {
    "collapsed": true
   },
   "outputs": [],
   "source": []
  }
 ],
 "metadata": {
  "kernelspec": {
   "display_name": "Python 3",
   "language": "python",
   "name": "python3"
  },
  "language_info": {
   "codemirror_mode": {
    "name": "ipython",
    "version": 3
   },
   "file_extension": ".py",
   "mimetype": "text/x-python",
   "name": "python",
   "nbconvert_exporter": "python",
   "pygments_lexer": "ipython3",
   "version": "3.4.4"
  }
 },
 "nbformat": 4,
 "nbformat_minor": 0
}
